{
 "cells": [
  {
   "cell_type": "code",
   "execution_count": 32,
   "metadata": {},
   "outputs": [],
   "source": [
    "import pandas as pd\n",
    "from datetime import datetime, timedelta"
   ]
  },
  {
   "cell_type": "code",
   "execution_count": 33,
   "metadata": {},
   "outputs": [],
   "source": [
    "df = pd.read_csv('../DATA/upbit원본.csv')\n",
    "df['candle_date_time_kst'] = pd.to_datetime(df['candle_date_time_kst'])\n",
    "date_range = pd.date_range(start=df['candle_date_time_kst'].min(), end=df['candle_date_time_kst'].max(), freq='H')\n",
    "\n",
    "# 누락된 날짜 식별\n",
    "existing_dates = set(df['candle_date_time_kst'])\n",
    "complete_dates = set(date_range)\n",
    "missing_dates = complete_dates - existing_dates\n",
    "\n",
    "# 누락된 날짜를 데이터프레임으로 생성\n",
    "missing_dates_df = pd.DataFrame(sorted(missing_dates), columns=['candle_date_time_kst'])\n",
    "\n",
    "# 원본 데이터프레임과 누락된 날짜 데이터프레임 병합\n",
    "combined_df = pd.concat([df, missing_dates_df]).sort_values(by='candle_date_time_kst').reset_index(drop=True)"
   ]
  },
  {
   "cell_type": "code",
   "execution_count": 34,
   "metadata": {},
   "outputs": [],
   "source": [
    "combined_df.drop(columns=['market','candle_date_time_utc','unit','timestamp'], inplace=True)"
   ]
  },
  {
   "cell_type": "code",
   "execution_count": 35,
   "metadata": {},
   "outputs": [],
   "source": [
    "df = combined_df.ffill()"
   ]
  },
  {
   "cell_type": "code",
   "execution_count": 36,
   "metadata": {},
   "outputs": [],
   "source": [
    "df['target'] = df['trade_price'].diff().apply(lambda x: 1 if x > 0 else 0)"
   ]
  },
  {
   "cell_type": "code",
   "execution_count": 2,
   "metadata": {},
   "outputs": [
    {
     "ename": "NameError",
     "evalue": "name 'df' is not defined",
     "output_type": "error",
     "traceback": [
      "\u001b[1;31m---------------------------------------------------------------------------\u001b[0m",
      "\u001b[1;31mNameError\u001b[0m                                 Traceback (most recent call last)",
      "Cell \u001b[1;32mIn[2], line 1\u001b[0m\n\u001b[1;32m----> 1\u001b[0m df\n",
      "\u001b[1;31mNameError\u001b[0m: name 'df' is not defined"
     ]
    }
   ],
   "source": []
  },
  {
   "cell_type": "code",
   "execution_count": null,
   "metadata": {},
   "outputs": [],
   "source": []
  }
 ],
 "metadata": {
  "kernelspec": {
   "display_name": "base",
   "language": "python",
   "name": "python3"
  },
  "language_info": {
   "codemirror_mode": {
    "name": "ipython",
    "version": 3
   },
   "file_extension": ".py",
   "mimetype": "text/x-python",
   "name": "python",
   "nbconvert_exporter": "python",
   "pygments_lexer": "ipython3",
   "version": "3.11.7"
  }
 },
 "nbformat": 4,
 "nbformat_minor": 2
}
